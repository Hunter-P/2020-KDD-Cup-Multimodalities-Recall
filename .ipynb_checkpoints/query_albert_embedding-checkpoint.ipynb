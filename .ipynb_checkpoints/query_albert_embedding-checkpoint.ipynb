{
 "cells": [
  {
   "cell_type": "code",
   "execution_count": 1,
   "metadata": {},
   "outputs": [
    {
     "name": "stderr",
     "output_type": "stream",
     "text": [
      "/root/anaconda3/envs/tianchi_env/lib/python3.6/site-packages/sklearn/externals/joblib/__init__.py:15: FutureWarning: sklearn.externals.joblib is deprecated in 0.21 and will be removed in 0.23. Please import this functionality directly from joblib, which can be installed with: pip install joblib. If this warning is raised when loading pickled models, you may need to re-serialize those models with scikit-learn 0.21+.\n",
      "  warnings.warn(msg, category=FutureWarning)\n",
      "/root/anaconda3/envs/tianchi_env/lib/python3.6/site-packages/swifter/swifter.py:14: NumbaDeprecationWarning: An import was requested from a module that has moved location.\n",
      "Import requested from: 'numba.errors', please update to use 'numba.core.errors' or pin to Numba version 0.48.0. This alias will not be present in Numba version 0.50.0.\n",
      "  from numba.errors import TypingError\n",
      "/root/anaconda3/envs/tianchi_env/lib/python3.6/site-packages/swifter/swifter.py:14: NumbaDeprecationWarning: An import was requested from a module that has moved location.\n",
      "Import of 'TypingError' requested from: 'numba.errors', please update to use 'numba.core.errors' or pin to Numba version 0.48.0. This alias will not be present in Numba version 0.50.0.\n",
      "  from numba.errors import TypingError\n"
     ]
    }
   ],
   "source": [
    "import torch\n",
    "import torch.optim as optim\n",
    "import matplotlib.pyplot as plt\n",
    "import gc\n",
    "import tensorflow as tf\n",
    "from sklearn.externals import joblib\n",
    "import numpy as np\n",
    "from transformers import *\n",
    "import csv\n",
    "import base64\n",
    "import swifter\n",
    "import pandas as pd\n",
    "import torch.nn as nn"
   ]
  },
  {
   "cell_type": "code",
   "execution_count": 2,
   "metadata": {},
   "outputs": [],
   "source": [
    "# config = tf.ConfigProto()\n",
    "# config.gpu_options.allow_growth=False  # 不全部占满显存, 按需分配\n",
    "# import os\n",
    "# os.environ[\"CUDA_VISIBLE_DEVICES\"] = \"0\"\n",
    "device = torch.device(\"cuda:0\")\n",
    "# device = torch.device(\"cpu\")"
   ]
  },
  {
   "cell_type": "code",
   "execution_count": 24,
   "metadata": {},
   "outputs": [
    {
     "name": "stdout",
     "output_type": "stream",
     "text": [
      "load albert model...\n",
      "finish to load albert model.\n"
     ]
    }
   ],
   "source": [
    "print('load albert model...')\n",
    "tokenizer = AlbertTokenizer.from_pretrained('albert-base-v2')\n",
    "model = AlbertModel.from_pretrained('albert-base-v2')\n",
    "model = model.to(device)\n",
    "print('finish to load albert model.')"
   ]
  },
  {
   "cell_type": "code",
   "execution_count": 4,
   "metadata": {},
   "outputs": [],
   "source": [
    "def convertBoxes(num_boxes, boxes):\n",
    "    return np.frombuffer(base64.b64decode(boxes), dtype=np.float32).reshape(num_boxes, 4)\n",
    "\n",
    "\n",
    "def convertFeature(num_boxes, features,):\n",
    "    return np.frombuffer(base64.b64decode(features), dtype=np.float32).reshape(num_boxes, 2048)\n",
    "\n",
    "\n",
    "def convertLabel(num_boxes, label):\n",
    "    return np.frombuffer(base64.b64decode(label), dtype=np.int64).reshape(num_boxes)"
   ]
  },
  {
   "cell_type": "code",
   "execution_count": 7,
   "metadata": {},
   "outputs": [],
   "source": [
    "def text_and_label_encoder(text):\n",
    "    input_ids = torch.tensor([tokenizer.encode(text, add_special_tokens=True)])\n",
    "    with torch.no_grad():\n",
    "        out = model(input_ids.cuda())[1][0]\n",
    "    return np.array(out.cpu())"
   ]
  },
  {
   "cell_type": "markdown",
   "metadata": {},
   "source": [
    "# train data"
   ]
  },
  {
   "cell_type": "code",
   "execution_count": 2,
   "metadata": {},
   "outputs": [
    {
     "name": "stdout",
     "output_type": "stream",
     "text": [
      "load albert model...\n",
      "finish to load albert model.\n",
      "starting\n",
      "1100000\n"
     ]
    },
    {
     "data": {
      "application/vnd.jupyter.widget-view+json": {
       "model_id": "0628cbc7e39441e2988e0473c3fd50e2",
       "version_major": 2,
       "version_minor": 0
      },
      "text/plain": [
       "HBox(children=(FloatProgress(value=0.0, description='Pandas Apply', max=100000.0, style=ProgressStyle(descript…"
      ]
     },
     "metadata": {},
     "output_type": "display_data"
    },
    {
     "name": "stdout",
     "output_type": "stream",
     "text": [
      "\n",
      "________________________________________\n",
      "avgpool_albert_embedded_1100000 is saved!\n",
      "1200000\n"
     ]
    },
    {
     "data": {
      "application/vnd.jupyter.widget-view+json": {
       "model_id": "0bc3071de22240d4913a37e84fbe04ea",
       "version_major": 2,
       "version_minor": 0
      },
      "text/plain": [
       "HBox(children=(FloatProgress(value=0.0, description='Pandas Apply', max=100000.0, style=ProgressStyle(descript…"
      ]
     },
     "metadata": {},
     "output_type": "display_data"
    },
    {
     "name": "stdout",
     "output_type": "stream",
     "text": [
      "\n",
      "________________________________________\n",
      "avgpool_albert_embedded_1200000 is saved!\n",
      "1300000\n"
     ]
    },
    {
     "data": {
      "application/vnd.jupyter.widget-view+json": {
       "model_id": "8af329a7fe5a4611b60ff2eb3f743482",
       "version_major": 2,
       "version_minor": 0
      },
      "text/plain": [
       "HBox(children=(FloatProgress(value=0.0, description='Pandas Apply', max=100000.0, style=ProgressStyle(descript…"
      ]
     },
     "metadata": {},
     "output_type": "display_data"
    },
    {
     "name": "stdout",
     "output_type": "stream",
     "text": [
      "\n",
      "________________________________________\n",
      "avgpool_albert_embedded_1300000 is saved!\n",
      "1400000\n"
     ]
    },
    {
     "data": {
      "application/vnd.jupyter.widget-view+json": {
       "model_id": "ed16e17a06db49aebb9a6824ee1c1804",
       "version_major": 2,
       "version_minor": 0
      },
      "text/plain": [
       "HBox(children=(FloatProgress(value=0.0, description='Pandas Apply', max=100000.0, style=ProgressStyle(descript…"
      ]
     },
     "metadata": {},
     "output_type": "display_data"
    },
    {
     "name": "stdout",
     "output_type": "stream",
     "text": [
      "\n",
      "________________________________________\n",
      "avgpool_albert_embedded_1400000 is saved!\n",
      "1500000\n"
     ]
    },
    {
     "data": {
      "application/vnd.jupyter.widget-view+json": {
       "model_id": "ab16dc716eed4c02aba1962566c005be",
       "version_major": 2,
       "version_minor": 0
      },
      "text/plain": [
       "HBox(children=(FloatProgress(value=0.0, description='Pandas Apply', max=100000.0, style=ProgressStyle(descript…"
      ]
     },
     "metadata": {},
     "output_type": "display_data"
    },
    {
     "name": "stdout",
     "output_type": "stream",
     "text": [
      "\n",
      "________________________________________\n",
      "avgpool_albert_embedded_1500000 is saved!\n",
      "1600000\n"
     ]
    },
    {
     "data": {
      "application/vnd.jupyter.widget-view+json": {
       "model_id": "9ce14fda5d594319913957291997be5c",
       "version_major": 2,
       "version_minor": 0
      },
      "text/plain": [
       "HBox(children=(FloatProgress(value=0.0, description='Pandas Apply', max=100000.0, style=ProgressStyle(descript…"
      ]
     },
     "metadata": {},
     "output_type": "display_data"
    },
    {
     "name": "stdout",
     "output_type": "stream",
     "text": [
      "\n",
      "________________________________________\n",
      "avgpool_albert_embedded_1600000 is saved!\n",
      "1700000\n"
     ]
    },
    {
     "data": {
      "application/vnd.jupyter.widget-view+json": {
       "model_id": "bc7ac59321a74905b1d249fc79077dd4",
       "version_major": 2,
       "version_minor": 0
      },
      "text/plain": [
       "HBox(children=(FloatProgress(value=0.0, description='Pandas Apply', max=100000.0, style=ProgressStyle(descript…"
      ]
     },
     "metadata": {},
     "output_type": "display_data"
    },
    {
     "name": "stdout",
     "output_type": "stream",
     "text": [
      "\n",
      "________________________________________\n",
      "avgpool_albert_embedded_1700000 is saved!\n",
      "1800000\n"
     ]
    },
    {
     "data": {
      "application/vnd.jupyter.widget-view+json": {
       "model_id": "fe0ee0e139864cee870c30ee1204062f",
       "version_major": 2,
       "version_minor": 0
      },
      "text/plain": [
       "HBox(children=(FloatProgress(value=0.0, description='Pandas Apply', max=100000.0, style=ProgressStyle(descript…"
      ]
     },
     "metadata": {},
     "output_type": "display_data"
    },
    {
     "name": "stdout",
     "output_type": "stream",
     "text": [
      "\n",
      "________________________________________\n",
      "avgpool_albert_embedded_1800000 is saved!\n",
      "1900000\n"
     ]
    },
    {
     "data": {
      "application/vnd.jupyter.widget-view+json": {
       "model_id": "ce20efd9ca6443d497e353b5fe554a4e",
       "version_major": 2,
       "version_minor": 0
      },
      "text/plain": [
       "HBox(children=(FloatProgress(value=0.0, description='Pandas Apply', max=100000.0, style=ProgressStyle(descript…"
      ]
     },
     "metadata": {},
     "output_type": "display_data"
    },
    {
     "name": "stdout",
     "output_type": "stream",
     "text": [
      "\n",
      "________________________________________\n",
      "avgpool_albert_embedded_1900000 is saved!\n",
      "2000000\n"
     ]
    },
    {
     "data": {
      "application/vnd.jupyter.widget-view+json": {
       "model_id": "c5ce424751a246758ac8ec7a7a852c80",
       "version_major": 2,
       "version_minor": 0
      },
      "text/plain": [
       "HBox(children=(FloatProgress(value=0.0, description='Pandas Apply', max=100000.0, style=ProgressStyle(descript…"
      ]
     },
     "metadata": {},
     "output_type": "display_data"
    },
    {
     "name": "stdout",
     "output_type": "stream",
     "text": [
      "\n",
      "________________________________________\n",
      "avgpool_albert_embedded_2000000 is saved!\n",
      "2100000\n"
     ]
    },
    {
     "data": {
      "application/vnd.jupyter.widget-view+json": {
       "model_id": "f7b6d34e723f4f2bad225e66c757b883",
       "version_major": 2,
       "version_minor": 0
      },
      "text/plain": [
       "HBox(children=(FloatProgress(value=0.0, description='Pandas Apply', max=100000.0, style=ProgressStyle(descript…"
      ]
     },
     "metadata": {},
     "output_type": "display_data"
    },
    {
     "name": "stdout",
     "output_type": "stream",
     "text": [
      "\n",
      "________________________________________\n",
      "avgpool_albert_embedded_2100000 is saved!\n",
      "2200000\n"
     ]
    },
    {
     "data": {
      "application/vnd.jupyter.widget-view+json": {
       "model_id": "f07b51ef894246b29e1ceb71fcb46bfc",
       "version_major": 2,
       "version_minor": 0
      },
      "text/plain": [
       "HBox(children=(FloatProgress(value=0.0, description='Pandas Apply', max=100000.0, style=ProgressStyle(descript…"
      ]
     },
     "metadata": {},
     "output_type": "display_data"
    },
    {
     "name": "stdout",
     "output_type": "stream",
     "text": [
      "\n",
      "________________________________________\n",
      "avgpool_albert_embedded_2200000 is saved!\n",
      "2300000\n"
     ]
    },
    {
     "data": {
      "application/vnd.jupyter.widget-view+json": {
       "model_id": "2d60e99f244046e4906f09b89077e56d",
       "version_major": 2,
       "version_minor": 0
      },
      "text/plain": [
       "HBox(children=(FloatProgress(value=0.0, description='Pandas Apply', max=100000.0, style=ProgressStyle(descript…"
      ]
     },
     "metadata": {},
     "output_type": "display_data"
    },
    {
     "name": "stdout",
     "output_type": "stream",
     "text": [
      "\n",
      "________________________________________\n",
      "avgpool_albert_embedded_2300000 is saved!\n",
      "2400000\n"
     ]
    },
    {
     "data": {
      "application/vnd.jupyter.widget-view+json": {
       "model_id": "5ec6c85c31c44a30ba634a03ab2f94cf",
       "version_major": 2,
       "version_minor": 0
      },
      "text/plain": [
       "HBox(children=(FloatProgress(value=0.0, description='Pandas Apply', max=100000.0, style=ProgressStyle(descript…"
      ]
     },
     "metadata": {},
     "output_type": "display_data"
    },
    {
     "name": "stdout",
     "output_type": "stream",
     "text": [
      "\n",
      "________________________________________\n",
      "avgpool_albert_embedded_2400000 is saved!\n",
      "2500000\n"
     ]
    },
    {
     "data": {
      "application/vnd.jupyter.widget-view+json": {
       "model_id": "71f8e98172874df79eb2c01117a2be65",
       "version_major": 2,
       "version_minor": 0
      },
      "text/plain": [
       "HBox(children=(FloatProgress(value=0.0, description='Pandas Apply', max=100000.0, style=ProgressStyle(descript…"
      ]
     },
     "metadata": {},
     "output_type": "display_data"
    },
    {
     "name": "stdout",
     "output_type": "stream",
     "text": [
      "\n",
      "________________________________________\n",
      "avgpool_albert_embedded_2500000 is saved!\n",
      "2600000\n"
     ]
    },
    {
     "data": {
      "application/vnd.jupyter.widget-view+json": {
       "model_id": "4cf745dc04a64dc385b55a865a1a11b1",
       "version_major": 2,
       "version_minor": 0
      },
      "text/plain": [
       "HBox(children=(FloatProgress(value=0.0, description='Pandas Apply', max=100000.0, style=ProgressStyle(descript…"
      ]
     },
     "metadata": {},
     "output_type": "display_data"
    },
    {
     "name": "stderr",
     "output_type": "stream",
     "text": [
      "IOPub message rate exceeded.\n",
      "The notebook server will temporarily stop sending output\n",
      "to the client in order to avoid crashing it.\n",
      "To change this limit, set the config variable\n",
      "`--NotebookApp.iopub_msg_rate_limit`.\n",
      "\n",
      "Current values:\n",
      "NotebookApp.iopub_msg_rate_limit=1000.0 (msgs/sec)\n",
      "NotebookApp.rate_limit_window=3.0 (secs)\n",
      "\n",
      "IOPub message rate exceeded.\n",
      "The notebook server will temporarily stop sending output\n",
      "to the client in order to avoid crashing it.\n",
      "To change this limit, set the config variable\n",
      "`--NotebookApp.iopub_msg_rate_limit`.\n",
      "\n",
      "Current values:\n",
      "NotebookApp.iopub_msg_rate_limit=1000.0 (msgs/sec)\n",
      "NotebookApp.rate_limit_window=3.0 (secs)\n",
      "\n",
      "IOPub message rate exceeded.\n",
      "The notebook server will temporarily stop sending output\n",
      "to the client in order to avoid crashing it.\n",
      "To change this limit, set the config variable\n",
      "`--NotebookApp.iopub_msg_rate_limit`.\n",
      "\n",
      "Current values:\n",
      "NotebookApp.iopub_msg_rate_limit=1000.0 (msgs/sec)\n",
      "NotebookApp.rate_limit_window=3.0 (secs)\n",
      "\n"
     ]
    },
    {
     "name": "stdout",
     "output_type": "stream",
     "text": [
      "\n",
      "________________________________________\n",
      "avgpool_albert_embedded_2600000 is saved!\n",
      "2700000\n"
     ]
    },
    {
     "data": {
      "application/vnd.jupyter.widget-view+json": {
       "model_id": "e5a53249bd824a4285ec6bd2a8c1f500",
       "version_major": 2,
       "version_minor": 0
      },
      "text/plain": [
       "HBox(children=(FloatProgress(value=0.0, description='Pandas Apply', max=100000.0, style=ProgressStyle(descript…"
      ]
     },
     "metadata": {},
     "output_type": "display_data"
    },
    {
     "name": "stderr",
     "output_type": "stream",
     "text": [
      "IOPub message rate exceeded.\n",
      "The notebook server will temporarily stop sending output\n",
      "to the client in order to avoid crashing it.\n",
      "To change this limit, set the config variable\n",
      "`--NotebookApp.iopub_msg_rate_limit`.\n",
      "\n",
      "Current values:\n",
      "NotebookApp.iopub_msg_rate_limit=1000.0 (msgs/sec)\n",
      "NotebookApp.rate_limit_window=3.0 (secs)\n",
      "\n",
      "IOPub message rate exceeded.\n",
      "The notebook server will temporarily stop sending output\n",
      "to the client in order to avoid crashing it.\n",
      "To change this limit, set the config variable\n",
      "`--NotebookApp.iopub_msg_rate_limit`.\n",
      "\n",
      "Current values:\n",
      "NotebookApp.iopub_msg_rate_limit=1000.0 (msgs/sec)\n",
      "NotebookApp.rate_limit_window=3.0 (secs)\n",
      "\n"
     ]
    },
    {
     "name": "stdout",
     "output_type": "stream",
     "text": [
      "\n",
      "________________________________________\n",
      "avgpool_albert_embedded_2700000 is saved!\n",
      "2800000\n"
     ]
    },
    {
     "data": {
      "application/vnd.jupyter.widget-view+json": {
       "model_id": "af4f6c39520546d4a173b542cb9b387a",
       "version_major": 2,
       "version_minor": 0
      },
      "text/plain": [
       "HBox(children=(FloatProgress(value=0.0, description='Pandas Apply', max=100000.0, style=ProgressStyle(descript…"
      ]
     },
     "metadata": {},
     "output_type": "display_data"
    },
    {
     "name": "stdout",
     "output_type": "stream",
     "text": [
      "\n",
      "________________________________________\n",
      "avgpool_albert_embedded_2800000 is saved!\n",
      "2900000\n"
     ]
    },
    {
     "data": {
      "application/vnd.jupyter.widget-view+json": {
       "model_id": "d64428526abe4b9fb48237e6ba163209",
       "version_major": 2,
       "version_minor": 0
      },
      "text/plain": [
       "HBox(children=(FloatProgress(value=0.0, description='Pandas Apply', max=100000.0, style=ProgressStyle(descript…"
      ]
     },
     "metadata": {},
     "output_type": "display_data"
    },
    {
     "name": "stdout",
     "output_type": "stream",
     "text": [
      "\n",
      "________________________________________\n",
      "avgpool_albert_embedded_2900000 is saved!\n",
      "3000000\n"
     ]
    },
    {
     "data": {
      "application/vnd.jupyter.widget-view+json": {
       "model_id": "44865ac9fa1a442ebf22b6c168c39fc6",
       "version_major": 2,
       "version_minor": 0
      },
      "text/plain": [
       "HBox(children=(FloatProgress(value=0.0, description='Pandas Apply', max=100000.0, style=ProgressStyle(descript…"
      ]
     },
     "metadata": {},
     "output_type": "display_data"
    },
    {
     "name": "stdout",
     "output_type": "stream",
     "text": [
      "\n",
      "________________________________________\n",
      "avgpool_albert_embedded_3000000 is saved!\n"
     ]
    }
   ],
   "source": [
    "def convertBoxes(num_boxes, boxes):\n",
    "    return np.frombuffer(base64.b64decode(boxes), dtype=np.float32).reshape(num_boxes, 4)\n",
    "\n",
    "\n",
    "def convertFeature(num_boxes, features,):\n",
    "    return np.frombuffer(base64.b64decode(features), dtype=np.float32).reshape(num_boxes, 2048)\n",
    "\n",
    "\n",
    "def convertLabel(num_boxes, label):\n",
    "    return np.frombuffer(base64.b64decode(label), dtype=np.int64).reshape(num_boxes)\n",
    "\n",
    "device = torch.device(\"cuda\")\n",
    "print('load albert model...')\n",
    "tokenizer = AlbertTokenizer.from_pretrained('albert-base-v2')\n",
    "model = AlbertModel.from_pretrained('albert-base-v2',output_hidden_states=True)\n",
    "model = model.to(device)\n",
    "print('finish to load albert model.')\n",
    "\n",
    "# output mean pool of last second hidden layer state\n",
    "def text_and_label_encoder(text):\n",
    "    input_ids = torch.tensor([tokenizer.encode(text, add_special_tokens=True)])\n",
    "    with torch.no_grad():\n",
    "        out = model(input_ids.cuda())[2][-2].mean(dim=1)[0]\n",
    "    return np.array(out.cpu())\n",
    "\n",
    "TRAIN_PATH = '../../tianchi_data/train.tsv'\n",
    "\n",
    "print(\"starting\")\n",
    "\n",
    "LEN = 0\n",
    "# 一次读100000条训练数据\n",
    "train_data = pd.read_csv(TRAIN_PATH, sep='\\t', chunksize=100000, quoting=csv.QUOTE_NONE)\n",
    "for train in train_data:\n",
    "    LEN += len(train)\n",
    "    print(LEN)\n",
    "    albert_embedded=pd.DataFrame()\n",
    "    text_train = train.swifter.apply(lambda x: text_and_label_encoder(x['query']), axis=1)\n",
    "    text_train.reset_index(drop=True, inplace=True)\n",
    "    albert_embedded=pd.concat((albert_embedded, text_train),axis=0)\n",
    "\n",
    "    print('_'*40)\n",
    "    \n",
    "    joblib.dump(albert_embedded, 'avgpool_albert_embedded_'+str(LEN))\n",
    "    print('avgpool_albert_embedded_{} is saved!'.format(LEN))\n",
    "    del train, text_train, albert_embedded\n",
    "    gc.collect()"
   ]
  },
  {
   "cell_type": "markdown",
   "metadata": {},
   "source": [
    "# valid data"
   ]
  },
  {
   "cell_type": "code",
   "execution_count": 3,
   "metadata": {},
   "outputs": [
    {
     "name": "stdout",
     "output_type": "stream",
     "text": [
      "load albert model...\n",
      "finish to load albert model.\n",
      "starting\n"
     ]
    },
    {
     "data": {
      "application/vnd.jupyter.widget-view+json": {
       "model_id": "03d0e0b7686742be820533c68be6f1e4",
       "version_major": 2,
       "version_minor": 0
      },
      "text/plain": [
       "HBox(children=(FloatProgress(value=0.0, description='Pandas Apply', max=14720.0, style=ProgressStyle(descripti…"
      ]
     },
     "metadata": {},
     "output_type": "display_data"
    },
    {
     "name": "stdout",
     "output_type": "stream",
     "text": [
      "\n",
      "________________________________________\n"
     ]
    },
    {
     "ename": "NameError",
     "evalue": "name 'LEN' is not defined",
     "output_type": "error",
     "traceback": [
      "\u001b[0;31m---------------------------------------------------------------------------\u001b[0m",
      "\u001b[0;31mNameError\u001b[0m                                 Traceback (most recent call last)",
      "\u001b[0;32m<ipython-input-3-f1bbd5014357>\u001b[0m in \u001b[0;36m<module>\u001b[0;34m\u001b[0m\n\u001b[1;32m     37\u001b[0m \u001b[0mgc\u001b[0m\u001b[0;34m.\u001b[0m\u001b[0mcollect\u001b[0m\u001b[0;34m(\u001b[0m\u001b[0;34m)\u001b[0m\u001b[0;34m\u001b[0m\u001b[0;34m\u001b[0m\u001b[0m\n\u001b[1;32m     38\u001b[0m \u001b[0;34m\u001b[0m\u001b[0m\n\u001b[0;32m---> 39\u001b[0;31m \u001b[0mjoblib\u001b[0m\u001b[0;34m.\u001b[0m\u001b[0mdump\u001b[0m\u001b[0;34m(\u001b[0m\u001b[0malbert_embedded\u001b[0m\u001b[0;34m,\u001b[0m \u001b[0;34m'avgpool_albert_embedded_valid_'\u001b[0m\u001b[0;34m+\u001b[0m\u001b[0mstr\u001b[0m\u001b[0;34m(\u001b[0m\u001b[0mLEN\u001b[0m\u001b[0;34m)\u001b[0m\u001b[0;34m)\u001b[0m\u001b[0;34m\u001b[0m\u001b[0;34m\u001b[0m\u001b[0m\n\u001b[0m\u001b[1;32m     40\u001b[0m \u001b[0mprint\u001b[0m\u001b[0;34m(\u001b[0m\u001b[0;34m'avgpool_albert_embedded_valid_{} is saved!'\u001b[0m\u001b[0;34m.\u001b[0m\u001b[0mformat\u001b[0m\u001b[0;34m(\u001b[0m\u001b[0mLEN\u001b[0m\u001b[0;34m)\u001b[0m\u001b[0;34m)\u001b[0m\u001b[0;34m\u001b[0m\u001b[0;34m\u001b[0m\u001b[0m\n",
      "\u001b[0;31mNameError\u001b[0m: name 'LEN' is not defined"
     ]
    }
   ],
   "source": [
    "def convertBoxes(num_boxes, boxes):\n",
    "    return np.frombuffer(base64.b64decode(boxes), dtype=np.float32).reshape(num_boxes, 4)\n",
    "\n",
    "\n",
    "def convertFeature(num_boxes, features,):\n",
    "    return np.frombuffer(base64.b64decode(features), dtype=np.float32).reshape(num_boxes, 2048)\n",
    "\n",
    "\n",
    "def convertLabel(num_boxes, label):\n",
    "    return np.frombuffer(base64.b64decode(label), dtype=np.int64).reshape(num_boxes)\n",
    "\n",
    "device = torch.device(\"cuda:0\")\n",
    "print('load albert model...')\n",
    "tokenizer = AlbertTokenizer.from_pretrained('albert-base-v2')\n",
    "model = AlbertModel.from_pretrained('albert-base-v2',output_hidden_states=True)\n",
    "model = model.to(device)\n",
    "print('finish to load albert model.')\n",
    "\n",
    "# output mean pool of last second hidden layer state\n",
    "def text_and_label_encoder(text):\n",
    "    input_ids = torch.tensor([tokenizer.encode(text, add_special_tokens=True)])\n",
    "    with torch.no_grad():\n",
    "        out = model(input_ids.cuda())[2][-2].mean(dim=1)[0]\n",
    "    return np.array(out.cpu())\n",
    "\n",
    "TRAIN_PATH = '../../tianchi_data/valid.tsv'\n",
    "\n",
    "print(\"starting\")\n",
    "albert_embedded=pd.DataFrame()\n",
    "valid = pd.read_csv(TRAIN_PATH, sep='\\t', quoting=csv.QUOTE_NONE)\n",
    "text_valid = valid.swifter.apply(lambda x: text_and_label_encoder(x['query']), axis=1)\n",
    "albert_embedded=pd.concat((albert_embedded, text_valid),axis=0)\n",
    "\n",
    "print('_'*40)\n",
    "gc.collect()\n",
    "\n",
    "joblib.dump(albert_embedded, 'avgpool_albert_embedded_valid')\n",
    "print('avgpool_albert_embedded_valid is saved!')"
   ]
  },
  {
   "cell_type": "markdown",
   "metadata": {},
   "source": [
    "# test data"
   ]
  },
  {
   "cell_type": "code",
   "execution_count": 2,
   "metadata": {},
   "outputs": [
    {
     "name": "stdout",
     "output_type": "stream",
     "text": [
      "load albert model...\n",
      "finish to load albert model.\n",
      "starting\n"
     ]
    },
    {
     "data": {
      "application/vnd.jupyter.widget-view+json": {
       "model_id": "b3a3cf6aa26b4c9ba534e79cb74e1e46",
       "version_major": 2,
       "version_minor": 0
      },
      "text/plain": [
       "HBox(children=(FloatProgress(value=0.0, description='Pandas Apply', max=29005.0, style=ProgressStyle(descripti…"
      ]
     },
     "metadata": {},
     "output_type": "display_data"
    },
    {
     "name": "stdout",
     "output_type": "stream",
     "text": [
      "\n",
      "________________________________________\n",
      "avgpool_albert_embedded_testB is saved!\n"
     ]
    }
   ],
   "source": [
    "def convertBoxes(num_boxes, boxes):\n",
    "    return np.frombuffer(base64.b64decode(boxes), dtype=np.float32).reshape(num_boxes, 4)\n",
    "\n",
    "\n",
    "def convertFeature(num_boxes, features,):\n",
    "    return np.frombuffer(base64.b64decode(features), dtype=np.float32).reshape(num_boxes, 2048)\n",
    "\n",
    "\n",
    "def convertLabel(num_boxes, label):\n",
    "    return np.frombuffer(base64.b64decode(label), dtype=np.int64).reshape(num_boxes)\n",
    "\n",
    "device = torch.device(\"cuda\")\n",
    "print('load albert model...')\n",
    "tokenizer = AlbertTokenizer.from_pretrained('albert-base-v2')\n",
    "model = AlbertModel.from_pretrained('albert-base-v2',output_hidden_states=True)\n",
    "model = model.to(device)\n",
    "print('finish to load albert model.')\n",
    "\n",
    "# output mean pool of last second hidden layer state\n",
    "def text_and_label_encoder(text):\n",
    "    input_ids = torch.tensor([tokenizer.encode(text, add_special_tokens=True)])\n",
    "    with torch.no_grad():\n",
    "        out = model(input_ids.cuda())[2][-2].mean(dim=1)[0]\n",
    "    return np.array(out.cpu())\n",
    "\n",
    "TRAIN_PATH = '../../tianchi_data/testB.tsv'\n",
    "\n",
    "print(\"starting\")\n",
    "albert_embedded=pd.DataFrame()\n",
    "test = pd.read_csv(TRAIN_PATH, sep='\\t', quoting=csv.QUOTE_NONE)\n",
    "text_test = test.swifter.apply(lambda x: text_and_label_encoder(x['query']), axis=1)\n",
    "albert_embedded=pd.concat((albert_embedded, text_test),axis=0)\n",
    "\n",
    "print('_'*40)\n",
    "gc.collect()\n",
    "\n",
    "joblib.dump(albert_embedded, 'avgpool_albert_embedded_testB')\n",
    "print('avgpool_albert_embedded_testB is saved!')"
   ]
  },
  {
   "cell_type": "code",
   "execution_count": null,
   "metadata": {},
   "outputs": [],
   "source": []
  }
 ],
 "metadata": {
  "kernelspec": {
   "display_name": "Python 3",
   "language": "python",
   "name": "python3"
  },
  "language_info": {
   "codemirror_mode": {
    "name": "ipython",
    "version": 3
   },
   "file_extension": ".py",
   "mimetype": "text/x-python",
   "name": "python",
   "nbconvert_exporter": "python",
   "pygments_lexer": "ipython3",
   "version": "3.6.3"
  }
 },
 "nbformat": 4,
 "nbformat_minor": 4
}
